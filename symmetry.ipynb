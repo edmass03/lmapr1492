{
 "cells": [
  {
   "cell_type": "markdown",
   "id": "89fb3ae8",
   "metadata": {},
   "source": [
    "# Tâche 5 : Analyse des symétries "
   ]
  },
  {
   "cell_type": "code",
   "execution_count": 1,
   "id": "e37a22cc",
   "metadata": {},
   "outputs": [],
   "source": [
    "import numpy as np\n",
    "from mp_api.client import MPRester\n",
    "from pymatgen.core.operations import SymmOp\n",
    "from pymatgen.symmetry.analyzer import SpacegroupAnalyzer\n",
    "from pymatgen.electronic_structure.plotter import BSPlotter\n",
    "from pymatgen.phonon.plotter import PhononBSPlotter\n",
    "from jupyter_jsmol.pymatgen import quick_view\n",
    "from lmapr1492 import plot_brillouin_zone, get_plot_bs, get_plot_dos, get_plot_bs_and_dos, get_branch_wavevectors\n",
    "from plotly.subplots import make_subplots\n",
    "import plotly.graph_objects as go"
   ]
  },
  {
   "cell_type": "code",
   "execution_count": 2,
   "id": "649879ad",
   "metadata": {},
   "outputs": [],
   "source": [
    "mp_key = \"MgnCbwKILRoKeWCsa2tbfn04aBTHkB78\"\n",
    "mp_id = \"mp-1747\""
   ]
  },
  {
   "cell_type": "code",
   "execution_count": 3,
   "id": "2200163b",
   "metadata": {},
   "outputs": [
    {
     "name": "stdout",
     "output_type": "stream",
     "text": [
      "Téléchargement du fichier CIF de K2Te..\n"
     ]
    },
    {
     "data": {
      "application/vnd.jupyter.widget-view+json": {
       "model_id": "5e8aeb22bdeb43f4a2563bb794e71a2f",
       "version_major": 2,
       "version_minor": 0
      },
      "text/plain": [
       "Retrieving MaterialsDoc documents:   0%|          | 0/1 [00:00<?, ?it/s]"
      ]
     },
     "metadata": {},
     "output_type": "display_data"
    },
    {
     "name": "stdout",
     "output_type": "stream",
     "text": [
      "Téléchargement terminé\n"
     ]
    }
   ],
   "source": [
    "with MPRester(mp_key) as m:\n",
    "    print(\"Téléchargement du fichier CIF de K2Te..\")\n",
    "    prim_struc = m.get_structure_by_material_id(mp_id)\n",
    "    print(\"Téléchargement terminé\")\n",
    "symmops = SpacegroupAnalyzer(prim_struc).get_symmetry_operations()\n",
    "conv_struc = SpacegroupAnalyzer(prim_struc).get_conventional_standard_structure()"
   ]
  },
  {
   "cell_type": "markdown",
   "id": "6aa48613",
   "metadata": {},
   "source": [
    " ## Choix des atomes et des symétries"
   ]
  },
  {
   "cell_type": "markdown",
   "id": "ec578c8c",
   "metadata": {},
   "source": [
    "Dans ce notebook, nous allons nous intéresser à l'analyse de quelques symétrie présente dans la structure cristalline du $K_2Te$. Les opérations analysées sont : une roto-inversion d'ordre 4 ($\\overline{4}$ en notation de Hermann-Maugin ou $iC_4$ en notation de Schönflies), une rotation autour d'un axe d'ordre 3 ($3$ ou $C_3$) et une inversion ($\\overline{1}$ ou $i$). Ces 3 opérations sont des symétries dites ponctuelles c'est à dire que au moins un point de la maille reste fixe selon la symétrie."
   ]
  },
  {
   "cell_type": "code",
   "execution_count": 4,
   "id": "86e8e23d",
   "metadata": {
    "scrolled": true
   },
   "outputs": [
    {
     "name": "stdout",
     "output_type": "stream",
     "text": [
      "Les atomes étudiés sont : Te situé en [0.5 0.  0.5], K1 situé en [0.25 0.25 0.25] et K2 situé en [0.75 0.75 0.25]. \n",
      "\n",
      "Les symétries étudiées sont : une roto-inversion d'ordre 4 sur l'atome de Te, une rotation autour d'un axe \n",
      "d'ordre 3 sur K1 et une inversion pour K2.\n"
     ]
    }
   ],
   "source": [
    "#Choix des atomes:\n",
    "pos_init_Te = conv_struc.sites[10].frac_coords\n",
    "pos_init_K1 = conv_struc.sites[7].frac_coords\n",
    "pos_init_K2 = conv_struc.sites[1].frac_coords\n",
    "\n",
    "#Plan miroir xy (x, z, y)\n",
    "s1 = symmops[31]\n",
    "Te_symmetry = s1.operate(pos_init_Te)\n",
    "\n",
    "#Roto-inversion (-x,-z,-y)\n",
    "s2 = symmops [28]\n",
    "K1_symmetry = s2.operate(pos_init_K1)\n",
    "\n",
    "#Rotation axe d'ordre 2 (y, x, -x-y-z)\n",
    "s3 = symmops [14]\n",
    "K2_symmetry = s3.operate(pos_init_K2)\n",
    "\n",
    "print(\"Les atomes étudiés sont : Te situé en {0}, K1 situé en {1} et K2 situé en {2}. \\n\\nLes symétries étudiées sont : une roto-inversion d'ordre 4 sur l'atome de Te, une rotation autour d'un axe \\nd'ordre 3 sur K1 et une inversion pour K2.\".format(pos_init_Te, pos_init_K1, pos_init_K2))"
   ]
  },
  {
   "cell_type": "markdown",
   "id": "94dab988",
   "metadata": {},
   "source": [
    "## Symétrie 1 : Roto-Inversion d'ordre 4 "
   ]
  },
  {
   "cell_type": "code",
   "execution_count": 5,
   "id": "4130249e",
   "metadata": {
    "scrolled": true
   },
   "outputs": [
    {
     "name": "stdout",
     "output_type": "stream",
     "text": [
      " Nous pouvons voir dans la figure ci dessous que l'atome de Tellure initialement \n",
      " situé aux coordonnées : [0.5 0.  0.5] subit une symétrie (x, z, y) constituée : \n",
      " - D'une inversion autour du point [0.0, 0.0, 0.0] \n",
      " - D'une rotation d'ordre 4 autour de l'axe (0 1 0)  \n",
      " et arrive au final à la position [0.5 0.5 0. ]. \n",
      "\n",
      " L'opération de symétrie est donnée par la matrice de rotation : \n",
      " [[1. 0. 0.]\n",
      " [0. 0. 1.]\n",
      " [0. 1. 0.]] \n",
      " et le vecteur de translation [0. 0. 0.] \n",
      " \n",
      "Cette opération est une opération de seconde espèce car le déterminant de la matrice \n",
      "vaut -1. Cette opération ne conserve donc pas la chiralité du cristal.\n"
     ]
    },
    {
     "data": {
      "application/vnd.jupyter.widget-view+json": {
       "model_id": "f359a63e305949468f8519d2eb9fb8e4",
       "version_major": 2,
       "version_minor": 0
      },
      "text/plain": [
       "JsmolView(layout=Layout(align_self='stretch', height='400px'))"
      ]
     },
     "metadata": {},
     "output_type": "display_data"
    }
   ],
   "source": [
    "print(\" Nous pouvons voir dans la figure ci dessous que l'atome de Tellure initialement \\n situé aux coordonnées : {0} subit une symétrie (x, z, y) constituée : \\n - D'une inversion autour du point [0.0, 0.0, 0.0] \\n - D'une rotation d'ordre 4 autour de l'axe (0 1 0)  \\n et arrive au final à la position {1}. \\n\\n L'opération de symétrie est donnée par la matrice de rotation : \\n {2} \\n et le vecteur de translation {3} \".format(pos_init_Te, Te_symmetry, s1.rotation_matrix, s1.translation_vector))\n",
    "print(\" \\nCette opération est une opération de seconde espèce car le déterminant de la matrice \\nvaut -1. Cette opération ne conserve donc pas la chiralité du cristal.\")\n",
    "v1 = quick_view(conv_struc, conventional = \"True\")\n",
    "display(v1)\n",
    "v1.script(\"draw SYMOP 32 {atomno=19}\")\n",
    "\n"
   ]
  },
  {
   "cell_type": "markdown",
   "id": "258fcbc6",
   "metadata": {},
   "source": [
    "## Symétrie 2 : Rotation autour d'un axe d'ordre 3 (-x, -z, -y)"
   ]
  },
  {
   "cell_type": "code",
   "execution_count": 6,
   "id": "e09c52f4",
   "metadata": {
    "scrolled": false
   },
   "outputs": [
    {
     "name": "stdout",
     "output_type": "stream",
     "text": [
      " Nous pouvons voir dans la figure ci dessous que l'atome de Potassium n°1 initialement \n",
      " situé aux coordonnées : [0.25 0.25 0.25] subit une inversion selon un axe d'ordre 3 pour \n",
      " arriver à la position [ 0.25  0.75 -1.75]. \n",
      "\n",
      " L'opération de symétrie est donnée par la matrice de rotation : \n",
      " [[-1.  0.  0.]\n",
      " [ 0.  0. -1.]\n",
      " [ 0. -1.  0.]] \n",
      " et le vecteur de translation [0. 0. 0.] \n",
      " \n",
      " Cette opération est une opération de première espèce car le déterminant de la matrice \n",
      " vaut 1. Cette opération conserve donc la chiralité du cristal.\n"
     ]
    },
    {
     "data": {
      "application/vnd.jupyter.widget-view+json": {
       "model_id": "36e2ec7739e6407cb851bca84260ea99",
       "version_major": 2,
       "version_minor": 0
      },
      "text/plain": [
       "JsmolView(layout=Layout(align_self='stretch', height='400px'))"
      ]
     },
     "metadata": {},
     "output_type": "display_data"
    }
   ],
   "source": [
    "print(\" Nous pouvons voir dans la figure ci dessous que l'atome de Potassium n°1 initialement \\n situé aux coordonnées : {0} subit une inversion selon un axe d'ordre 3 pour \\n arriver à la position {1}. \\n\\n L'opération de symétrie est donnée par la matrice de rotation : \\n {2} \\n et le vecteur de translation {3} \".format(pos_init_K1, K2_symmetry, s2.rotation_matrix, s2.translation_vector))\n",
    "print(\" \\n Cette opération est une opération de première espèce car le déterminant de la matrice \\n vaut 1. Cette opération conserve donc la chiralité du cristal.\")\n",
    "v2 = quick_view(conv_struc, conventional = \"True\")\n",
    "display(v2)\n",
    "v2.script(\"draw SYMOP 29 {atomno=1}\")\n"
   ]
  },
  {
   "cell_type": "markdown",
   "id": "f07adef4",
   "metadata": {},
   "source": [
    "## Symétrie 3 : Inversion (z, x, -x-y-z)"
   ]
  },
  {
   "cell_type": "code",
   "execution_count": 7,
   "id": "b6203ca7",
   "metadata": {
    "scrolled": true
   },
   "outputs": [
    {
     "name": "stdout",
     "output_type": "stream",
     "text": [
      " Nous pouvons voir dans la figure ci dessous que l'atome de Potassium n°2 initialement \n",
      " situé aux coordonnées : [0.75 0.75 0.25] subit une une inversion autour du point [0.75, 0.75, 0.0] pour \n",
      " arriver à la position [ 0.25  0.75 -1.75]. \n",
      "\n",
      " L'opération de symétrie est donnée par la matrice de rotation : \n",
      " [[ 0.  0.  1.]\n",
      " [ 1.  0.  0.]\n",
      " [-1. -1. -1.]] \n",
      " et le vecteur de translation [0. 0. 0.] \n",
      " \n",
      " Cette opération est une opération de seconde espèce car le déterminant de la matrice \n",
      " vaut -1. Cette opération ne conserve donc pas la chiralité du cristal.\n"
     ]
    },
    {
     "data": {
      "application/vnd.jupyter.widget-view+json": {
       "model_id": "9e1ce351ffaf4739a91e4af72be9866c",
       "version_major": 2,
       "version_minor": 0
      },
      "text/plain": [
       "JsmolView(layout=Layout(align_self='stretch', height='400px'))"
      ]
     },
     "metadata": {},
     "output_type": "display_data"
    }
   ],
   "source": [
    "print(\" Nous pouvons voir dans la figure ci dessous que l'atome de Potassium n°2 initialement \\n situé aux coordonnées : {0} subit une une inversion autour du point [0.75, 0.75, 0.0] pour \\n arriver à la position {1}. \\n\\n L'opération de symétrie est donnée par la matrice de rotation : \\n {2} \\n et le vecteur de translation {3} \".format(pos_init_K2, K2_symmetry, s3.rotation_matrix, s3.translation_vector))\n",
    "print(\" \\n Cette opération est une opération de seconde espèce car le déterminant de la matrice \\n vaut -1. Cette opération ne conserve donc pas la chiralité du cristal.\")\n",
    "v3 = quick_view(conv_struc, conventional = \"True\")\n",
    "display(v3)\n",
    "v3.script(\"draw SYMOP 15 {atomno=9}\")\n"
   ]
  },
  {
   "cell_type": "code",
   "execution_count": null,
   "id": "de35a2bb",
   "metadata": {},
   "outputs": [],
   "source": []
  }
 ],
 "metadata": {
  "kernelspec": {
   "display_name": "Python 3 (ipykernel)",
   "language": "python",
   "name": "python3"
  },
  "language_info": {
   "codemirror_mode": {
    "name": "ipython",
    "version": 3
   },
   "file_extension": ".py",
   "mimetype": "text/x-python",
   "name": "python",
   "nbconvert_exporter": "python",
   "pygments_lexer": "ipython3",
   "version": "3.9.13"
  }
 },
 "nbformat": 4,
 "nbformat_minor": 5
}
