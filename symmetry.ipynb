{
 "cells": [
  {
   "cell_type": "code",
   "execution_count": 1,
   "id": "e37a22cc",
   "metadata": {},
   "outputs": [],
   "source": [
    "import numpy as np\n",
    "from mp_api.client import MPRester\n",
    "from pymatgen.core.operations import SymmOp\n",
    "from pymatgen.symmetry.analyzer import SpacegroupAnalyzer\n",
    "from pymatgen.electronic_structure.plotter import BSPlotter\n",
    "from pymatgen.phonon.plotter import PhononBSPlotter\n",
    "from jupyter_jsmol.pymatgen import quick_view\n",
    "from lmapr1492 import plot_brillouin_zone, get_plot_bs, get_plot_dos, get_plot_bs_and_dos, get_branch_wavevectors\n",
    "from plotly.subplots import make_subplots\n",
    "import plotly.graph_objects as go"
   ]
  },
  {
   "cell_type": "code",
   "execution_count": 2,
   "id": "649879ad",
   "metadata": {},
   "outputs": [],
   "source": [
    "mp_key = \"MgnCbwKILRoKeWCsa2tbfn04aBTHkB78\"\n",
    "mp_id = \"mp-1747\""
   ]
  },
  {
   "cell_type": "code",
   "execution_count": 3,
   "id": "2200163b",
   "metadata": {},
   "outputs": [
    {
     "name": "stdout",
     "output_type": "stream",
     "text": [
      "Téléchargement du fichier CIF de K2Te..\n"
     ]
    },
    {
     "data": {
      "application/vnd.jupyter.widget-view+json": {
       "model_id": "7935f23083f84436a440d66914a8ca10",
       "version_major": 2,
       "version_minor": 0
      },
      "text/plain": [
       "Retrieving MaterialsDoc documents:   0%|          | 0/1 [00:00<?, ?it/s]"
      ]
     },
     "metadata": {},
     "output_type": "display_data"
    },
    {
     "name": "stdout",
     "output_type": "stream",
     "text": [
      "Téléchargement terminé\n"
     ]
    }
   ],
   "source": [
    "with MPRester(mp_key) as m:\n",
    "    print(\"Téléchargement du fichier CIF de K2Te..\")\n",
    "    prim_struc = m.get_structure_by_material_id(mp_id)\n",
    "    print(\"Téléchargement terminé\")\n",
    "symmops = SpacegroupAnalyzer(prim_struc).get_symmetry_operations()\n",
    "conv_struc = SpacegroupAnalyzer(prim_struc).get_conventional_standard_structure()"
   ]
  },
  {
   "cell_type": "markdown",
   "id": "6aa48613",
   "metadata": {},
   "source": [
    " ## Choix des atomes et des symétries"
   ]
  },
  {
   "cell_type": "code",
   "execution_count": 14,
   "id": "86e8e23d",
   "metadata": {
    "scrolled": true
   },
   "outputs": [
    {
     "name": "stdout",
     "output_type": "stream",
     "text": [
      "Les atomes étudiés sont : Te situé en [0.5 0.  0.5], K1 situé en [0.25 0.25 0.25] et K2 situé en [0.75 0.75 0.25]. \n",
      " symétries étudiées sont : un plan miroir xy sur Te, une roto-inversion (-x, -y, -z) \n",
      " K1 et une rotation autour d'un axe d'ordre 2 (y, x, -x-y-z) pour K2\n"
     ]
    }
   ],
   "source": [
    "#Choix des atomes:\n",
    "pos_init_Te = conv_struc.sites[10].frac_coords\n",
    "pos_init_K1 = conv_struc.sites[7].frac_coords\n",
    "pos_init_K2 = conv_struc.sites[1].frac_coords\n",
    "\n",
    "#Plan miroir xy (x, z, y)\n",
    "s1 = symmops[31]\n",
    "Te_symmetry = s1.operate(pos_init_Te)\n",
    "\n",
    "#Roto-inversion (-x,-z,-y)\n",
    "s2 = symmops [28]\n",
    "K1_symmetry = s2.operate(pos_init_K1)\n",
    "\n",
    "#Rotation axe d'ordre 2 (y, x, -x-y-z)\n",
    "s3 = symmops [14]\n",
    "K2_symmetry = s3.operate(pos_init_K2)\n",
    "\n",
    "print(\"Les atomes étudiés sont : Te situé en {0}, K1 situé en {1} et K2 situé en {2}. \\n symétries étudiées sont : un plan miroir xy sur Te, une roto-inversion (-x, -y, -z) \\n K1 et une rotation autour d'un axe d'ordre 2 (y, x, -x-y-z) pour K2\".format(pos_init_Te, pos_init_K1, pos_init_K2))"
   ]
  },
  {
   "cell_type": "code",
   "execution_count": 15,
   "id": "651a937b",
   "metadata": {},
   "outputs": [],
   "source": [
    "## Symétrie 1 : Plan miroir xy "
   ]
  },
  {
   "cell_type": "code",
   "execution_count": 16,
   "id": "4130249e",
   "metadata": {
    "scrolled": true
   },
   "outputs": [
    {
     "name": "stdout",
     "output_type": "stream",
     "text": [
      "  Nous pouvons voir dans la figure ci dessous que l'atome de Tellure initialement \n",
      " situé aux coordonnées : [0.5 0.  0.5] subit une symétrie (x, z, y) avec un plan miroit xy pour \n",
      " arriver à la position [0.5 0.5 0. ]. \n",
      " L'opération de symétrie est donnée par la matrice de rotation : \n",
      " [[1. 0. 0.]\n",
      " [0. 0. 1.]\n",
      " [0. 1. 0.]] \n",
      " et le vecteur de translation [0. 0. 0.] \n"
     ]
    },
    {
     "data": {
      "application/vnd.jupyter.widget-view+json": {
       "model_id": "d1dba15526aa4901935ec4d21657963a",
       "version_major": 2,
       "version_minor": 0
      },
      "text/plain": [
       "JsmolView(layout=Layout(align_self='stretch', height='400px'))"
      ]
     },
     "metadata": {},
     "output_type": "display_data"
    }
   ],
   "source": [
    "print(\"  Nous pouvons voir dans la figure ci dessous que l'atome de Tellure initialement \\n situé aux coordonnées : {0} subit une symétrie (x, z, y) avec un plan miroit xy pour \\n arriver à la position {1}. \\n L'opération de symétrie est donnée par la matrice de rotation : \\n {2} \\n et le vecteur de translation {3} \".format(pos_init_Te, Te_symmetry, s1.rotation_matrix, s1.translation_vector))\n",
    "v1 = quick_view(conv_struc, conventional = \"True\")\n",
    "display(v1)\n",
    "v1.script(\"draw SYMOP 32 {atomno=19}\")\n",
    "v1.script(\"rotate on\")\n"
   ]
  },
  {
   "cell_type": "code",
   "execution_count": 17,
   "id": "a1c50973",
   "metadata": {},
   "outputs": [],
   "source": [
    "## Symétrie 2 : Roto-inversion (-x, -z, -y)"
   ]
  },
  {
   "cell_type": "code",
   "execution_count": 18,
   "id": "e09c52f4",
   "metadata": {
    "scrolled": true
   },
   "outputs": [
    {
     "name": "stdout",
     "output_type": "stream",
     "text": [
      "  Nous pouvons voir dans la figure ci dessous que l'atome de Potassium n°1 initialement \n",
      " situé aux coordonnées : [0.25 0.25 0.25] subit une symétrie de plan miroir pour \n",
      " arriver à la position [ 0.25  0.75 -1.75]. \n",
      " L'opération de symétrie est donnée par la matrice de rotation : \n",
      " [[-1.  0.  0.]\n",
      " [ 0.  0. -1.]\n",
      " [ 0. -1.  0.]] \n",
      " et le vecteur de translation [0. 0. 0.] \n"
     ]
    },
    {
     "data": {
      "application/vnd.jupyter.widget-view+json": {
       "model_id": "a8a6ba6f85c246079dba825f78b692a7",
       "version_major": 2,
       "version_minor": 0
      },
      "text/plain": [
       "JsmolView(layout=Layout(align_self='stretch', height='400px'))"
      ]
     },
     "metadata": {},
     "output_type": "display_data"
    }
   ],
   "source": [
    "print(\"  Nous pouvons voir dans la figure ci dessous que l'atome de Potassium n°1 initialement \\n situé aux coordonnées : {0} subit une symétrie de plan miroir pour \\n arriver à la position {1}. \\n L'opération de symétrie est donnée par la matrice de rotation : \\n {2} \\n et le vecteur de translation {3} \".format(pos_init_K1, K2_symmetry, s2.rotation_matrix, s2.translation_vector))\n",
    "v2 = quick_view(conv_struc, conventional = \"True\")\n",
    "display(v2)\n",
    "v2.script(\"draw SYMOP 29 {atomno=1}\")\n",
    "v2.script(\"rotate on\")"
   ]
  },
  {
   "cell_type": "code",
   "execution_count": 19,
   "id": "b1c630e7",
   "metadata": {},
   "outputs": [],
   "source": [
    "## Symétrie 3 : rotation autour d'un axe d'ordre 2 (z, x, -x-y-z)"
   ]
  },
  {
   "cell_type": "code",
   "execution_count": 20,
   "id": "b6203ca7",
   "metadata": {
    "scrolled": true
   },
   "outputs": [
    {
     "name": "stdout",
     "output_type": "stream",
     "text": [
      "  Nous pouvons voir dans la figure ci dessous que l'atome de Potassium n°2 initialement \n",
      " situé aux coordonnées : [0.75 0.75 0.25] subit une symétrie de plan miroir pour \n",
      " arriver à la position [ 0.25  0.75 -1.75]. \n",
      " L'opération de symétrie est donnée par la matrice de rotation : \n",
      " [[ 0.  0.  1.]\n",
      " [ 1.  0.  0.]\n",
      " [-1. -1. -1.]] \n",
      " et le vecteur de translation [0. 0. 0.] \n"
     ]
    },
    {
     "data": {
      "application/vnd.jupyter.widget-view+json": {
       "model_id": "81ae88bab00f4a98a0bebede86749920",
       "version_major": 2,
       "version_minor": 0
      },
      "text/plain": [
       "JsmolView(layout=Layout(align_self='stretch', height='400px'))"
      ]
     },
     "metadata": {},
     "output_type": "display_data"
    }
   ],
   "source": [
    "print(\"  Nous pouvons voir dans la figure ci dessous que l'atome de Potassium n°2 initialement \\n situé aux coordonnées : {0} subit une symétrie de plan miroir pour \\n arriver à la position {1}. \\n L'opération de symétrie est donnée par la matrice de rotation : \\n {2} \\n et le vecteur de translation {3} \".format(pos_init_K2, K2_symmetry, s3.rotation_matrix, s3.translation_vector))\n",
    "v3 = quick_view(conv_struc, conventional = \"True\")\n",
    "display(v3)\n",
    "v3.script(\"draw SYMOP 15 {atomno=9}\")\n",
    "v3.script(\"rotate on\")"
   ]
  }
 ],
 "metadata": {
  "kernelspec": {
   "display_name": "Python 3 (ipykernel)",
   "language": "python",
   "name": "python3"
  },
  "language_info": {
   "codemirror_mode": {
    "name": "ipython",
    "version": 3
   },
   "file_extension": ".py",
   "mimetype": "text/x-python",
   "name": "python",
   "nbconvert_exporter": "python",
   "pygments_lexer": "ipython3",
   "version": "3.9.13"
  }
 },
 "nbformat": 4,
 "nbformat_minor": 5
}
